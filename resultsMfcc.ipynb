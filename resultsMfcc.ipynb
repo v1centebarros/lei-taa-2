{
 "cells": [
  {
   "cell_type": "code",
   "execution_count": 6,
   "metadata": {},
   "outputs": [],
   "source": [
    "from modelGym import load_data,run_model\n",
    "from src.models import model_1, model_2, model_3, model_4, model_5, model_6,dnn\n"
   ]
  },
  {
   "attachments": {},
   "cell_type": "markdown",
   "metadata": {},
   "source": [
    "# Data Split (MFCC)"
   ]
  },
  {
   "cell_type": "code",
   "execution_count": 7,
   "metadata": {},
   "outputs": [
    {
     "name": "stdout",
     "output_type": "stream",
     "text": [
      "1800 600 600\n"
     ]
    }
   ],
   "source": [
    "train_X, train_Y, cv_X, cv_Y, test_X, test_Y = load_data(\"mfcc\")\n",
    "\n",
    "print(len(train_X), len(cv_X), len(test_X))"
   ]
  },
  {
   "attachments": {},
   "cell_type": "markdown",
   "metadata": {},
   "source": [
    "# Model 1"
   ]
  },
  {
   "cell_type": "code",
   "execution_count": null,
   "metadata": {},
   "outputs": [],
   "source": [
    "print(\"Running model 1\")\n",
    "loss, accuracy = run_model(model_1(train_X), train_X, train_Y, cv_X, cv_Y, test_X, test_Y, plot=True)\n",
    "print(f\"loss: {loss}, accuracy: {accuracy}\")"
   ]
  },
  {
   "attachments": {},
   "cell_type": "markdown",
   "metadata": {},
   "source": [
    "# Model 2"
   ]
  },
  {
   "cell_type": "code",
   "execution_count": null,
   "metadata": {},
   "outputs": [],
   "source": [
    "print(\"Running model 2\")\n",
    "loss, accuracy = run_model(model_2(train_X), train_X, train_Y, cv_X, cv_Y, test_X, test_Y, plot=True)\n",
    "print(f\"loss: {loss}, accuracy: {accuracy}\")"
   ]
  },
  {
   "attachments": {},
   "cell_type": "markdown",
   "metadata": {},
   "source": [
    "# Model 3"
   ]
  },
  {
   "cell_type": "code",
   "execution_count": null,
   "metadata": {},
   "outputs": [],
   "source": [
    "print(\"Running model 3\")\n",
    "loss, accuracy = run_model(model_3(train_X), train_X, train_Y, cv_X, cv_Y, test_X, test_Y, plot=True)\n",
    "print(f\"loss: {loss}, accuracy: {accuracy}\")"
   ]
  },
  {
   "attachments": {},
   "cell_type": "markdown",
   "metadata": {},
   "source": [
    "# Model 4"
   ]
  },
  {
   "cell_type": "code",
   "execution_count": null,
   "metadata": {},
   "outputs": [],
   "source": [
    "print(\"Running model 4\")\n",
    "loss, accuracy = run_model(model_4(train_X), train_X, train_Y, cv_X, cv_Y, test_X, test_Y, plot=True)\n",
    "print(f\"loss: {loss}, accuracy: {accuracy}\")"
   ]
  },
  {
   "attachments": {},
   "cell_type": "markdown",
   "metadata": {},
   "source": [
    "# Model 5"
   ]
  },
  {
   "cell_type": "code",
   "execution_count": null,
   "metadata": {},
   "outputs": [],
   "source": [
    "print(\"Running model 5\")\n",
    "loss, accuracy = run_model(model_5(train_X), train_X, train_Y, cv_X, cv_Y, test_X, test_Y, plot=True)\n",
    "print(f\"loss: {loss}, accuracy: {accuracy}\")"
   ]
  },
  {
   "attachments": {},
   "cell_type": "markdown",
   "metadata": {},
   "source": [
    "# Model 6"
   ]
  },
  {
   "cell_type": "code",
   "execution_count": null,
   "metadata": {},
   "outputs": [],
   "source": [
    "print(\"Running model 6\")\n",
    "loss, accuracy = run_model(model_6(train_X), train_X, train_Y, cv_X, cv_Y, test_X, test_Y, plot=True)\n",
    "print(f\"loss: {loss}, accuracy: {accuracy}\")"
   ]
  },
  {
   "attachments": {},
   "cell_type": "markdown",
   "metadata": {},
   "source": [
    "# DNN"
   ]
  },
  {
   "cell_type": "code",
   "execution_count": null,
   "metadata": {},
   "outputs": [],
   "source": [
    "print(\"Running dnn\")\n",
    "loss, accuracy = run_model(dnn(train_X), train_X, train_Y, cv_X, cv_Y, test_X, test_Y, plot=True)\n",
    "print(f\"loss: {loss}, accuracy: {accuracy}\")"
   ]
  }
 ],
 "metadata": {
  "kernelspec": {
   "display_name": "venv",
   "language": "python",
   "name": "python3"
  },
  "language_info": {
   "codemirror_mode": {
    "name": "ipython",
    "version": 3
   },
   "file_extension": ".py",
   "mimetype": "text/x-python",
   "name": "python",
   "nbconvert_exporter": "python",
   "pygments_lexer": "ipython3",
   "version": "3.9.13"
  },
  "orig_nbformat": 4,
  "vscode": {
   "interpreter": {
    "hash": "6807d9fb81799ae5657feca825e590051392ad123fb9d818161faf1e20a1718b"
   }
  }
 },
 "nbformat": 4,
 "nbformat_minor": 2
}
